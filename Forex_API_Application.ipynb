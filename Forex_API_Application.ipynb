{
  "nbformat": 4,
  "nbformat_minor": 0,
  "metadata": {
    "colab": {
      "name": "Forex_API_Application.ipynb",
      "provenance": [],
      "authorship_tag": "ABX9TyMPgeHmL/Eez/CLy7QbqvJG",
      "include_colab_link": true
    },
    "kernelspec": {
      "name": "python3",
      "display_name": "Python 3"
    }
  },
  "cells": [
    {
      "cell_type": "markdown",
      "metadata": {
        "id": "view-in-github",
        "colab_type": "text"
      },
      "source": [
        "<a href=\"https://colab.research.google.com/github/JonathanCornish/Forex_API/blob/master/Forex_API_Application.ipynb\" target=\"_parent\"><img src=\"https://colab.research.google.com/assets/colab-badge.svg\" alt=\"Open In Colab\"/></a>"
      ]
    },
    {
      "cell_type": "code",
      "metadata": {
        "id": "ej8HWMUl90H8",
        "colab_type": "code",
        "colab": {}
      },
      "source": [
        "import requests"
      ],
      "execution_count": 0,
      "outputs": []
    },
    {
      "cell_type": "markdown",
      "metadata": {
        "id": "NwwhPvL4_XI9",
        "colab_type": "text"
      },
      "source": [
        "Creating a very simple currency converter"
      ]
    },
    {
      "cell_type": "code",
      "metadata": {
        "id": "nJK7rEw3-V4l",
        "colab_type": "code",
        "colab": {}
      },
      "source": [
        "base_url = 'https://api.exchangeratesapi.io/'"
      ],
      "execution_count": 0,
      "outputs": []
    },
    {
      "cell_type": "markdown",
      "metadata": {
        "id": "klvkpHt_KK9z",
        "colab_type": "text"
      },
      "source": [
        "The following code asks for you to input two currencies and two dates and it tells you the percentage change in currencies over that time period."
      ]
    },
    {
      "cell_type": "code",
      "metadata": {
        "id": "5SZ-gQ43Iriv",
        "colab_type": "code",
        "colab": {
          "base_uri": "https://localhost:8080/",
          "height": 101
        },
        "outputId": "712e0bce-a576-49fe-909f-d170eb9e7e6b"
      },
      "source": [
        "base_curr = input(\"Please input the base currency (e.g. USD): \")\n",
        "curr = input(\"Please input the numerator currency (e.g. GBP): \")\n",
        "start_date = input(\"Please input the start date (in the format yyyy-mm-dd): \")\n",
        "end_date = input(\"Please input the end date (in the format yyyy-mm-dd or 'latest'): \")\n",
        "\n",
        "url1 = base_url + start_date + \"?base=\" + base_curr + \"&symbols=\" + curr\n",
        "response1 = requests.get(url1)\n",
        "\n",
        "url2 = base_url + end_date + \"?base=\" + base_curr + \"&symbols=\" + curr\n",
        "response2 = requests.get(url2)\n",
        "\n",
        "if response1.ok is False:\n",
        "  print(f\"\\nError {response1.status_code}:\")\n",
        "  print(response1.json()['error'])\n",
        "\n",
        "elif response2.ok is False:\n",
        "  print(\"\\nError {response2.status_code}:\")\n",
        "  print(response2.json()['error'])\n",
        "\n",
        "else:\n",
        "  data1 = response1.json()\n",
        "  rate1 = data1['rates'][curr]\n",
        "\n",
        "  data2 = response2.json()\n",
        "  rate2 = data2['rates'][curr]\n",
        "\n",
        "  result = rate1 / rate2 - 1 \n",
        "  \n",
        "  appr_depr = 'appreciated'\n",
        "  \n",
        "  if result > 0:\n",
        "    appr_depr = 'appreciated'\n",
        "  else:\n",
        "    appr_depr = 'depreciated'\n",
        "  \n",
        "  result = \"{:.2%}\".format(result)\n",
        "  \n",
        "\n",
        "  \n",
        "  \n",
        "  print(f\"{curr} has {appr_depr} by {result} relative to the {base_curr} from {start_date} to {end_date}.\")"
      ],
      "execution_count": 10,
      "outputs": [
        {
          "output_type": "stream",
          "text": [
            "Please input the base currency (e.g. USD): GBP\n",
            "Please input the numerator currency (e.g. GBP): USD\n",
            "Please input the start date (in the format yyyy-mm-dd): 2019-12-31\n",
            "Please input the end date (in the format yyyy-mm-dd or 'latest'): 2020-03-30\n",
            "USD has appreciated by 6.38% relative to the GBP from 2019-12-31 to 2020-03-30.\n"
          ],
          "name": "stdout"
        }
      ]
    }
  ]
}